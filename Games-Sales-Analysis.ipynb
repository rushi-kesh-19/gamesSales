{
 "cells": [
  {
   "cell_type": "code",
   "execution_count": 1,
   "id": "279e3487",
   "metadata": {},
   "outputs": [
    {
     "name": "stderr",
     "output_type": "stream",
     "text": [
      "UsageError: Cell magic `%%sql` not found.\n"
     ]
    }
   ],
   "source": [
    "%%sql\n",
    "postgresql:///games\n",
    "\n",
    "SELECT * \n",
    "FROM game_sales\n",
    "ORDER BY games_sold DESC\n",
    "LIMIT 10;"
   ]
  },
  {
   "cell_type": "code",
   "execution_count": 2,
   "id": "3e9aade5",
   "metadata": {},
   "outputs": [],
   "source": [
    "%%sql \n",
    "\n",
    "SELECT COUNT(g.game)\n",
    "FROM game_sales AS g\n",
    "LEFT JOIN reviews AS r\n",
    "ON g.game = r.game\n",
    "WHERE r.critic_score IS NULL\n",
    "AND r.user_score IS NULL"
   ]
  },
  {
   "cell_type": "code",
   "execution_count": 3,
   "id": "16ff37ed",
   "metadata": {},
   "outputs": [
    {
     "name": "stdout",
     "output_type": "stream",
     "text": [
      "4.8.0\n"
     ]
    }
   ],
   "source": [
    "%%sql\n",
    "\n",
    "SELECT g.year , AVG(r.critic_score) AS avg_critic_score\n",
    "FROM game_sales AS g\n",
    "LEFT JOIN reviews AS r\n",
    "ON g.game = r.game\n",
    "GROUP BY g.year\n",
    "ORDER BY AVG(r.critic_score) DESC\n",
    "LIMIT 10;\n"
   ]
  },
  {
   "cell_type": "code",
   "execution_count": null,
   "id": "9ec7905f",
   "metadata": {},
   "outputs": [],
   "source": [
    "%%sql \n",
    "\n",
    "SELECT g.year, COUNT(g.game) AS num_games, ROUND(AVG(r.critic_score),2) AS avg_critic_score\n",
    "FROM game_sales g\n",
    "INNER JOIN reviews r\n",
    "ON g.game = r.game\n",
    "GROUP BY g.year\n",
    "HAVING COUNT(g.game) > 4\n",
    "ORDER BY avg_critic_score DESC\n",
    "LIMIT 10;"
   ]
  },
  {
   "cell_type": "code",
   "execution_count": null,
   "id": "57d17ad6",
   "metadata": {},
   "outputs": [],
   "source": [
    "%%sql \n",
    "\n",
    "SELECT *\n",
    "FROM top_critic_years\n",
    "EXCEPT\n",
    "SELECT year,avg_critic_score\n",
    "FROM top_critic_years_more_than_four_games\n",
    "ORDER BY avg_critic_score DESC;"
   ]
  },
  {
   "cell_type": "code",
   "execution_count": null,
   "id": "83725027",
   "metadata": {},
   "outputs": [],
   "source": [
    "%%sql \n",
    "\n",
    "SELECT g.year, COUNT(g.game) AS num_games, ROUND(AVG(r.user_score),2) AS avg_user_score\n",
    "FROM game_sales g\n",
    "INNER JOIN reviews r\n",
    "ON g.game = r.game\n",
    "GROUP BY g.year\n",
    "HAVING COUNT(g.game) > 4\n",
    "ORDER BY avg_user_score DESC\n",
    "LIMIT 10;"
   ]
  },
  {
   "cell_type": "code",
   "execution_count": null,
   "id": "962665d1",
   "metadata": {},
   "outputs": [],
   "source": [
    "%%sql \n",
    "\n",
    "SELECT year\n",
    "FROM top_critic_years_more_than_four_games\n",
    "INTERSECT\n",
    "SELECT year\n",
    "FROM top_user_years_more_than_four_games"
   ]
  },
  {
   "cell_type": "code",
   "execution_count": null,
   "id": "58fffad9",
   "metadata": {},
   "outputs": [],
   "source": [
    "%%sql \n",
    "\n",
    "SELECT year ,ROUND(SUM(games_sold),2) AS total_games_sold\n",
    "FROM game_sales\n",
    "WHERE year IN \n",
    "( SELECT year\n",
    "FROM top_critic_years_more_than_four_games\n",
    "INTERSECT\n",
    "SELECT year\n",
    "FROM top_user_years_more_than_four_games) \n",
    "GROUP BY year\n",
    "ORDER BY total_games_sold DESC;"
   ]
  },
  {
   "cell_type": "code",
   "execution_count": null,
   "id": "da054b32",
   "metadata": {},
   "outputs": [],
   "source": []
  }
 ],
 "metadata": {
  "kernelspec": {
   "display_name": "env1",
   "language": "python",
   "name": "env1"
  },
  "language_info": {
   "codemirror_mode": {
    "name": "ipython",
    "version": 3
   },
   "file_extension": ".py",
   "mimetype": "text/x-python",
   "name": "python",
   "nbconvert_exporter": "python",
   "pygments_lexer": "ipython3",
   "version": "3.11.4"
  }
 },
 "nbformat": 4,
 "nbformat_minor": 5
}
